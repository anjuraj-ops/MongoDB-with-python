{
 "cells": [
  {
   "cell_type": "markdown",
   "metadata": {},
   "source": [
    "# Mongodb is noSQL database which contains JSON documents- dictionary type records. Contains document type info\n",
    "\n",
    "Doesn't have  a strict schema like in MySQL.\n",
    "Can change records.\n",
    "First install pymongo using 'pip install pymongo' in anaconda prompt\".\n",
    "In MySQL,most tableas are connected with each other via foreign key and as such if we make changes in one db, we would need to make changes in the other dbs as well but this challenge is not there in MongoDB.\n",
    "\n",
    "Few basic CRUD options.\n",
    "* collection.insert_one() - will insert one record in collection.\n",
    "* collection.insert_many() - will insert many records in collection.\n",
    "* collection.find() - will give us an idea about the cursor in collection, won't return any records.\n",
    "* collection.find_one() - will return first record from collection.\n",
    "* for record in collection.find() print(record) - will return all records from collection.\n",
    "* for record in collection.find({conditions}) print(record) - will return all records from collection matching the reqd conditions.  \n",
    "* collection.update_one() - update first record in collection.\n",
    "* collection.update_many()\n",
    "* collection.replace_one()\n"
   ]
  },
  {
   "cell_type": "code",
   "execution_count": 28,
   "metadata": {},
   "outputs": [],
   "source": [
    "\n",
    "\n",
    "\n",
    "import pymongo\n",
    "\n"
   ]
  },
  {
   "cell_type": "code",
   "execution_count": 29,
   "metadata": {},
   "outputs": [],
   "source": [
    "#Connecting to the client - it includes 'protocol-mongodb,host name - 127.0.0.1,port name - 27017'\"\n",
    "\n",
    "client = pymongo.MongoClient(\"mongodb://127.0.0.1:27017/\")\n",
    "\n"
   ]
  },
  {
   "cell_type": "code",
   "execution_count": 30,
   "metadata": {},
   "outputs": [],
   "source": [
    "#Creating a database 'Student'\"\n",
    "mydb = client[\"Student\"]\n",
    "        "
   ]
  },
  {
   "cell_type": "code",
   "execution_count": 31,
   "metadata": {},
   "outputs": [],
   "source": [
    "#Creating a collection 'studentinformation'\" -Collection in mongodb is similar to table in mySQL.\n",
    "\n",
    "studinfo = mydb.studentinformation\n"
   ]
  },
  {
   "cell_type": "code",
   "execution_count": 32,
   "metadata": {},
   "outputs": [],
   "source": [
    "#Creating below record\"\n",
    "\n",
    "records={'firstname':'Anju',\n",
    "         'Lastname': 'Raj',\n",
    "         'Department': 'Maths',\n",
    "         'class':12,\n",
    "         'Age': 29}\n",
    "\n"
   ]
  },
  {
   "cell_type": "code",
   "execution_count": 14,
   "metadata": {},
   "outputs": [
    {
     "data": {
      "text/plain": [
       "<pymongo.results.InsertOneResult at 0x1fd98890b48>"
      ]
     },
     "execution_count": 14,
     "metadata": {},
     "output_type": "execute_result"
    }
   ],
   "source": [
    "# Insert the record into collection 'studentinformation'\n",
    "studinfo.insert_one(records)\n"
   ]
  },
  {
   "cell_type": "code",
   "execution_count": 33,
   "metadata": {},
   "outputs": [],
   "source": [
    "#Creating many records. ALways use a list to create many records.\n",
    "records=[{'firstname':'Simi',\n",
    "         'Lastname': 'Raj',\n",
    "         'Department': 'Science',\n",
    "         'class':11,\n",
    "          'Age': 24},\n",
    "         {'firstname':'Dhan',\n",
    "         'Lastname': 'Raj',\n",
    "         'Department': 'Maths',\n",
    "         'class':12,\n",
    "          'Age': 28},\n",
    "         {'firstname':'Ananya',\n",
    "         'Lastname': 'Raj',\n",
    "         'Department': 'Maths',\n",
    "         'class':12,\n",
    "          'Age': 15}]\n"
   ]
  },
  {
   "cell_type": "code",
   "execution_count": 34,
   "metadata": {},
   "outputs": [
    {
     "data": {
      "text/plain": [
       "<pymongo.results.InsertManyResult at 0x1fd98b95e88>"
      ]
     },
     "execution_count": 34,
     "metadata": {},
     "output_type": "execute_result"
    }
   ],
   "source": [
    "# Insert above records into collection 'studentinformation'\n",
    "studinfo.insert_many(records)"
   ]
  },
  {
   "cell_type": "markdown",
   "metadata": {},
   "source": [
    "# Querying data"
   ]
  },
  {
   "cell_type": "code",
   "execution_count": 35,
   "metadata": {},
   "outputs": [
    {
     "data": {
      "text/plain": [
       "{'_id': ObjectId('5f0ab8dd8129486bfd0af92d'),\n",
       " 'firstname': 'Simi',\n",
       " 'Lastname': 'Raj',\n",
       " 'Department': 'Science',\n",
       " 'class': 11,\n",
       " 'Age': 24}"
      ]
     },
     "execution_count": 35,
     "metadata": {},
     "output_type": "execute_result"
    }
   ],
   "source": [
    "\n",
    "studinfo.find_one()"
   ]
  },
  {
   "cell_type": "code",
   "execution_count": 36,
   "metadata": {},
   "outputs": [
    {
     "name": "stdout",
     "output_type": "stream",
     "text": [
      "<pymongo.cursor.Cursor object at 0x000001FD98B5CB48>\n"
     ]
    }
   ],
   "source": [
    "#below query will say us where the cursor or pointer is located.\n",
    "print(studinfo.find())\n"
   ]
  },
  {
   "cell_type": "code",
   "execution_count": 37,
   "metadata": {},
   "outputs": [
    {
     "name": "stdout",
     "output_type": "stream",
     "text": [
      "{'_id': ObjectId('5f0ab8dd8129486bfd0af92d'), 'firstname': 'Simi', 'Lastname': 'Raj', 'Department': 'Science', 'class': 11, 'Age': 24}\n",
      "{'_id': ObjectId('5f0ab8dd8129486bfd0af92e'), 'firstname': 'Dhan', 'Lastname': 'Raj', 'Department': 'Maths', 'class': 12, 'Age': 28}\n",
      "{'_id': ObjectId('5f0ab8dd8129486bfd0af92f'), 'firstname': 'Ananya', 'Lastname': 'Raj', 'Department': 'Maths', 'class': 12, 'Age': 15}\n"
     ]
    }
   ],
   "source": [
    "# below query will give us all the records. similar to select * in SQL.\n",
    "for record in studinfo.find():\n",
    "    print(record)\n"
   ]
  },
  {
   "cell_type": "code",
   "execution_count": 38,
   "metadata": {},
   "outputs": [
    {
     "data": {
      "text/plain": [
       "<pymongo.cursor.Cursor at 0x1fd98b81488>"
      ]
     },
     "execution_count": 38,
     "metadata": {},
     "output_type": "execute_result"
    }
   ],
   "source": [
    "studinfo.find({})"
   ]
  },
  {
   "cell_type": "code",
   "execution_count": 22,
   "metadata": {},
   "outputs": [],
   "source": [
    "# We always use 'for record in db.find()' instead of 'db.find()' in mongo db because db.find() will return only the cursor\n",
    "#position"
   ]
  },
  {
   "cell_type": "markdown",
   "metadata": {},
   "source": [
    "# Query Operators"
   ]
  },
  {
   "cell_type": "code",
   "execution_count": 39,
   "metadata": {},
   "outputs": [
    {
     "name": "stdout",
     "output_type": "stream",
     "text": [
      "{'_id': ObjectId('5f0ab8dd8129486bfd0af92d'), 'firstname': 'Simi', 'Lastname': 'Raj', 'Department': 'Science', 'class': 11, 'Age': 24}\n"
     ]
    }
   ],
   "source": [
    "# below query will give \" Select * from db where firstname = 'Simi'\"\n",
    "\n",
    "for record in studinfo.find({'firstname':'Simi'}):\n",
    "    print(record)"
   ]
  },
  {
   "cell_type": "code",
   "execution_count": 40,
   "metadata": {},
   "outputs": [
    {
     "name": "stdout",
     "output_type": "stream",
     "text": [
      "{'_id': ObjectId('5f0ab8dd8129486bfd0af92d'), 'firstname': 'Simi', 'Lastname': 'Raj', 'Department': 'Science', 'class': 11, 'Age': 24}\n",
      "{'_id': ObjectId('5f0ab8dd8129486bfd0af92e'), 'firstname': 'Dhan', 'Lastname': 'Raj', 'Department': 'Maths', 'class': 12, 'Age': 28}\n",
      "{'_id': ObjectId('5f0ab8dd8129486bfd0af92f'), 'firstname': 'Ananya', 'Lastname': 'Raj', 'Department': 'Maths', 'class': 12, 'Age': 15}\n"
     ]
    }
   ],
   "source": [
    "# I want records having department as maths or science. Use $in\n",
    "# select * from db where Deparment in ('Maths','Science')\n",
    "for record in studinfo.find({'Department':{'$in':['Maths','Science']}}):\n",
    "    print(record)"
   ]
  },
  {
   "cell_type": "code",
   "execution_count": 47,
   "metadata": {},
   "outputs": [
    {
     "name": "stdout",
     "output_type": "stream",
     "text": [
      "{'_id': ObjectId('5f0ab8dd8129486bfd0af92d'), 'firstname': 'Simi', 'Lastname': 'Raj', 'Department': 'Science', 'class': 11, 'Age': 24}\n",
      "{'_id': ObjectId('5f0ab8dd8129486bfd0af92e'), 'firstname': 'Dhan', 'Lastname': 'Raj', 'Department': 'Maths', 'class': 12, 'Age': 28}\n"
     ]
    }
   ],
   "source": [
    "# I want records having department as science or age 28. \n",
    "# select * from db where Deparment='Science' or Age = 28\n",
    "# AND operator\n",
    "for record in studinfo.find({'$or': [{'Department':'Science'}, {'Age':28}]}):\n",
    "    print(record)"
   ]
  },
  {
   "cell_type": "code",
   "execution_count": 41,
   "metadata": {},
   "outputs": [
    {
     "name": "stdout",
     "output_type": "stream",
     "text": [
      "{'_id': ObjectId('5f0ab8dd8129486bfd0af92f'), 'firstname': 'Ananya', 'Lastname': 'Raj', 'Department': 'Maths', 'class': 12, 'Age': 15}\n"
     ]
    }
   ],
   "source": [
    "# I want records having department as maths and age less than 28. Use $lt = less than.\n",
    "# select * from db where Deparment='Maths' and Age < 28\n",
    "# AND operator\n",
    "for record in studinfo.find({'Department':'Maths', 'Age':{'$lt':28}}):\n",
    "    print(record)"
   ]
  },
  {
   "cell_type": "code",
   "execution_count": 42,
   "metadata": {},
   "outputs": [
    {
     "name": "stdout",
     "output_type": "stream",
     "text": [
      "{'_id': ObjectId('5f0ab8dd8129486bfd0af92d'), 'firstname': 'Simi', 'Lastname': 'Raj', 'Department': 'Science', 'class': 11, 'Age': 24}\n",
      "{'_id': ObjectId('5f0ab8dd8129486bfd0af92f'), 'firstname': 'Ananya', 'Lastname': 'Raj', 'Department': 'Maths', 'class': 12, 'Age': 15}\n"
     ]
    }
   ],
   "source": [
    "# I want records having either department as science or age less than 28. Use $or  and $lt = less than.\n",
    "# select * from db where Deparment='Science' or Age < 28\n",
    "# OR operator\n",
    "for record in studinfo.find({'$or':[{'Department':'Science'},{'Age':{'$lt':28}}]}):\n",
    "    print(record)"
   ]
  },
  {
   "cell_type": "code",
   "execution_count": 43,
   "metadata": {},
   "outputs": [
    {
     "name": "stdout",
     "output_type": "stream",
     "text": [
      "{'_id': ObjectId('5f0ab8dd8129486bfd0af92d'), 'firstname': 'Simi', 'Lastname': 'Raj', 'Department': 'Science', 'class': 11, 'Age': 24}\n"
     ]
    }
   ],
   "source": [
    "# I want records having both department as science and age less than 28. Use $and  and $lt = less than.\n",
    "# select * from db where Deparment='Science' and Age < 28\n",
    "# and operator\n",
    "for record in studinfo.find({'$and':[{'Department':'Science'},{'Age':{'$lt':28}}]}):\n",
    "    print(record)"
   ]
  },
  {
   "cell_type": "code",
   "execution_count": 45,
   "metadata": {},
   "outputs": [],
   "source": [
    "# I want records having both department as Maths and age greater than 30. Use $and  and $gt = greater than.\n",
    "# select * from db where Deparment='Maths' or Age > 30\n",
    "# OR operator and greater than.\n",
    "# No such records available in collection.\n",
    "for record in studinfo.find({'$and':[{'Department':'Maths'},{'Age':{'$gt':30}}]}):\n",
    "    print(record)"
   ]
  },
  {
   "cell_type": "markdown",
   "metadata": {},
   "source": [
    "# Create nested collection"
   ]
  },
  {
   "cell_type": "code",
   "execution_count": 53,
   "metadata": {},
   "outputs": [],
   "source": [
    "studattr = mydb.studentattributes"
   ]
  },
  {
   "cell_type": "code",
   "execution_count": 54,
   "metadata": {},
   "outputs": [
    {
     "data": {
      "text/plain": [
       "<pymongo.results.InsertManyResult at 0x1fd98ba24c8>"
      ]
     },
     "execution_count": 54,
     "metadata": {},
     "output_type": "execute_result"
    }
   ],
   "source": [
    "studattr.insert_many([\n",
    "          {'firstname':'Simi',\n",
    "         'Location': 'Bangalore',\n",
    "         'BMI':{'Age': 24,'height':151,'weight':53}\n",
    "                      },\n",
    "         {'firstname':'Dhan',\n",
    "         'Location': 'Pune',\n",
    "         'BMI':{'Age': 30,'height':167,'weight':72}\n",
    "        },\n",
    "         {'firstname':'Ananya',\n",
    "         'Location': 'Chennai',\n",
    "         'BMI':{'Age': 35,'height':160,'weight':60}}])"
   ]
  },
  {
   "cell_type": "code",
   "execution_count": 57,
   "metadata": {},
   "outputs": [
    {
     "name": "stdout",
     "output_type": "stream",
     "text": [
      "{'_id': ObjectId('5f0abe2f8129486bfd0af933'), 'firstname': 'Simi', 'Location': 'Bangalore', 'BMI': {'Age': 24, 'height': 151, 'weight': 53}}\n",
      "{'_id': ObjectId('5f0abe2f8129486bfd0af934'), 'firstname': 'Dhan', 'Location': 'Pune', 'BMI': {'Age': 30, 'height': 167, 'weight': 72}}\n",
      "{'_id': ObjectId('5f0abe2f8129486bfd0af935'), 'firstname': 'Ananya', 'Location': 'Chennai', 'BMI': {'Age': 35, 'height': 160, 'weight': 60}}\n"
     ]
    }
   ],
   "source": [
    "for record in studattr.find({}):\n",
    "    print(record)"
   ]
  },
  {
   "cell_type": "code",
   "execution_count": 56,
   "metadata": {},
   "outputs": [
    {
     "name": "stdout",
     "output_type": "stream",
     "text": [
      "{'_id': ObjectId('5f0abe2f8129486bfd0af933'), 'firstname': 'Simi', 'Location': 'Bangalore', 'BMI': {'Age': 24, 'height': 151, 'weight': 53}}\n"
     ]
    }
   ],
   "source": [
    "for record in studattr.find({'BMI':{'Age': 24,'height':151,'weight':53}}):\n",
    "    print(record)"
   ]
  },
  {
   "cell_type": "code",
   "execution_count": 63,
   "metadata": {},
   "outputs": [
    {
     "name": "stdout",
     "output_type": "stream",
     "text": [
      "{'_id': ObjectId('5f0abe2f8129486bfd0af935'), 'firstname': 'Ananya', 'Location': 'Chennai', 'BMI': {'Age': 35, 'height': 160, 'weight': 60}}\n"
     ]
    }
   ],
   "source": [
    "for record in studattr.find({'BMI.Age':35}):\n",
    "    print(record)\n",
    "    # if u want to find records matching atleast one condition of nested query, use \".cond\"."
   ]
  },
  {
   "cell_type": "markdown",
   "metadata": {},
   "source": [
    "# Updating JSON documents.\n",
    "Updating records in mongodb collection."
   ]
  },
  {
   "cell_type": "markdown",
   "metadata": {},
   "source": [
    "#### Update_one"
   ]
  },
  {
   "cell_type": "code",
   "execution_count": 64,
   "metadata": {},
   "outputs": [
    {
     "data": {
      "text/plain": [
       "<pymongo.results.UpdateResult at 0x1fd988b57c8>"
      ]
     },
     "execution_count": 64,
     "metadata": {},
     "output_type": "execute_result"
    }
   ],
   "source": [
    "studattr.update_one({'firstname':'Simi'},{'$set':{'BMI.Age':26}})  # change age of simi from 24 to 26."
   ]
  },
  {
   "cell_type": "code",
   "execution_count": 65,
   "metadata": {},
   "outputs": [
    {
     "name": "stdout",
     "output_type": "stream",
     "text": [
      "{'_id': ObjectId('5f0abe2f8129486bfd0af933'), 'firstname': 'Simi', 'Location': 'Bangalore', 'BMI': {'Age': 26, 'height': 151, 'weight': 53}}\n",
      "{'_id': ObjectId('5f0abe2f8129486bfd0af934'), 'firstname': 'Dhan', 'Location': 'Pune', 'BMI': {'Age': 30, 'height': 167, 'weight': 72}}\n",
      "{'_id': ObjectId('5f0abe2f8129486bfd0af935'), 'firstname': 'Ananya', 'Location': 'Chennai', 'BMI': {'Age': 35, 'height': 160, 'weight': 60}}\n"
     ]
    }
   ],
   "source": [
    "for record in studattr.find({}):\n",
    "    print(record)"
   ]
  },
  {
   "cell_type": "code",
   "execution_count": 67,
   "metadata": {},
   "outputs": [
    {
     "data": {
      "text/plain": [
       "<pymongo.results.UpdateResult at 0x1fd98ca8608>"
      ]
     },
     "execution_count": 67,
     "metadata": {},
     "output_type": "execute_result"
    }
   ],
   "source": [
    "studattr.update_one({'firstname':'Dhan'},{'$set':{'BMI.Age':31,'Location':'Bangalore'}})  # change age of dhan from 30 to 31 and\n",
    "# Location from Pune to Bangalore."
   ]
  },
  {
   "cell_type": "code",
   "execution_count": 68,
   "metadata": {},
   "outputs": [
    {
     "name": "stdout",
     "output_type": "stream",
     "text": [
      "{'_id': ObjectId('5f0abe2f8129486bfd0af933'), 'firstname': 'Simi', 'Location': 'Bangalore', 'BMI': {'Age': 26, 'height': 151, 'weight': 53}}\n",
      "{'_id': ObjectId('5f0abe2f8129486bfd0af934'), 'firstname': 'Dhan', 'Location': 'Bangalore', 'BMI': {'Age': 31, 'height': 167, 'weight': 72}}\n",
      "{'_id': ObjectId('5f0abe2f8129486bfd0af935'), 'firstname': 'Ananya', 'Location': 'Chennai', 'BMI': {'Age': 35, 'height': 160, 'weight': 60}}\n"
     ]
    }
   ],
   "source": [
    "for record in studattr.find({}):\n",
    "    print(record)"
   ]
  },
  {
   "cell_type": "code",
   "execution_count": 71,
   "metadata": {},
   "outputs": [
    {
     "data": {
      "text/plain": [
       "<pymongo.results.UpdateResult at 0x1fd98cb2208>"
      ]
     },
     "execution_count": 71,
     "metadata": {},
     "output_type": "execute_result"
    }
   ],
   "source": [
    "studattr.update_one({'firstname':'Dhan'},{'$set':{'BMI.Age':29,'Location':'Pune'},'$currentDate':{'lastmodified':True}})  \n",
    "# change age of dhan from 31 to 39 and\n",
    "# and get the last modified date."
   ]
  },
  {
   "cell_type": "code",
   "execution_count": 72,
   "metadata": {},
   "outputs": [
    {
     "name": "stdout",
     "output_type": "stream",
     "text": [
      "{'_id': ObjectId('5f0abe2f8129486bfd0af933'), 'firstname': 'Simi', 'Location': 'Bangalore', 'BMI': {'Age': 26, 'height': 151, 'weight': 53}}\n",
      "{'_id': ObjectId('5f0abe2f8129486bfd0af934'), 'firstname': 'Dhan', 'Location': 'Pune', 'BMI': {'Age': 29, 'height': 167, 'weight': 72}, 'lastmodified': datetime.datetime(2020, 7, 12, 8, 16, 51, 212000)}\n",
      "{'_id': ObjectId('5f0abe2f8129486bfd0af935'), 'firstname': 'Ananya', 'Location': 'Chennai', 'BMI': {'Age': 35, 'height': 160, 'weight': 60}}\n"
     ]
    }
   ],
   "source": [
    "for record in studattr.find({}):\n",
    "    print(record)"
   ]
  },
  {
   "cell_type": "markdown",
   "metadata": {},
   "source": [
    "#### Update_many"
   ]
  },
  {
   "cell_type": "code",
   "execution_count": 77,
   "metadata": {},
   "outputs": [
    {
     "data": {
      "text/plain": [
       "<pymongo.results.UpdateResult at 0x1fd98cb7288>"
      ]
     },
     "execution_count": 77,
     "metadata": {},
     "output_type": "execute_result"
    }
   ],
   "source": [
    "studattr.update_many({'BMI.Age':{'$gt': 26}},{'$set':{'Location': 'London'},\n",
    "                                          '$currentDate':{'lastmodified':True}})  \n",
    "\n",
    "# Change location of records having age greater than 26 to London and also update the latest updated timestamp."
   ]
  },
  {
   "cell_type": "code",
   "execution_count": 78,
   "metadata": {},
   "outputs": [
    {
     "name": "stdout",
     "output_type": "stream",
     "text": [
      "{'_id': ObjectId('5f0abe2f8129486bfd0af933'), 'firstname': 'Simi', 'Location': 'Bangalore', 'BMI': {'Age': 26, 'height': 151, 'weight': 53}}\n",
      "{'_id': ObjectId('5f0abe2f8129486bfd0af934'), 'firstname': 'Dhan', 'Location': 'London', 'BMI': {'Age': 29, 'height': 167, 'weight': 72}, 'lastmodified': datetime.datetime(2020, 7, 12, 8, 24, 44, 548000)}\n",
      "{'_id': ObjectId('5f0abe2f8129486bfd0af935'), 'firstname': 'Ananya', 'Location': 'London', 'BMI': {'Age': 35, 'height': 160, 'weight': 60}, 'lastmodified': datetime.datetime(2020, 7, 12, 8, 24, 44, 548000)}\n"
     ]
    }
   ],
   "source": [
    "for record in studattr.find({}):\n",
    "    print(record)"
   ]
  },
  {
   "cell_type": "markdown",
   "metadata": {},
   "source": [
    "#### Replace_one"
   ]
  },
  {
   "cell_type": "code",
   "execution_count": 79,
   "metadata": {},
   "outputs": [
    {
     "data": {
      "text/plain": [
       "<pymongo.results.UpdateResult at 0x1fd98cb49c8>"
      ]
     },
     "execution_count": 79,
     "metadata": {},
     "output_type": "execute_result"
    }
   ],
   "source": [
    "# Replacing record of simi with array of interests.\n",
    "studattr.replace_one({'firstname': 'Simi'},\n",
    "                     {'firstname': 'Simi',\n",
    "                     'interests':[{'indoor':'ludo','outdoor':'cricket'},\n",
    "                                  {'academic':'writing','art':'drawing'}]})"
   ]
  },
  {
   "cell_type": "code",
   "execution_count": 80,
   "metadata": {},
   "outputs": [
    {
     "name": "stdout",
     "output_type": "stream",
     "text": [
      "{'_id': ObjectId('5f0abe2f8129486bfd0af933'), 'firstname': 'Simi', 'interests': [{'indoor': 'ludo', 'outdoor': 'cricket'}, {'academic': 'writing', 'art': 'drawing'}]}\n",
      "{'_id': ObjectId('5f0abe2f8129486bfd0af934'), 'firstname': 'Dhan', 'Location': 'London', 'BMI': {'Age': 29, 'height': 167, 'weight': 72}, 'lastmodified': datetime.datetime(2020, 7, 12, 8, 24, 44, 548000)}\n",
      "{'_id': ObjectId('5f0abe2f8129486bfd0af935'), 'firstname': 'Ananya', 'Location': 'London', 'BMI': {'Age': 35, 'height': 160, 'weight': 60}, 'lastmodified': datetime.datetime(2020, 7, 12, 8, 24, 44, 548000)}\n"
     ]
    }
   ],
   "source": [
    "for record in studattr.find({}):\n",
    "    print(record)"
   ]
  },
  {
   "cell_type": "markdown",
   "metadata": {},
   "source": [
    "## You will see all the above updates in MongoDB compass as well."
   ]
  }
 ],
 "metadata": {
  "kernelspec": {
   "display_name": "Python 3",
   "language": "python",
   "name": "python3"
  },
  "language_info": {
   "codemirror_mode": {
    "name": "ipython",
    "version": 3
   },
   "file_extension": ".py",
   "mimetype": "text/x-python",
   "name": "python",
   "nbconvert_exporter": "python",
   "pygments_lexer": "ipython3",
   "version": "3.7.6"
  }
 },
 "nbformat": 4,
 "nbformat_minor": 2
}
